{
 "cells": [
  {
   "cell_type": "markdown",
   "id": "a2b15de2",
   "metadata": {},
   "source": [
    "Ejercicio 1"
   ]
  },
  {
   "cell_type": "code",
   "execution_count": 1,
   "id": "02dc9e3a",
   "metadata": {},
   "outputs": [],
   "source": [
    "import cv2"
   ]
  },
  {
   "cell_type": "code",
   "execution_count": null,
   "id": "68fa785d",
   "metadata": {},
   "outputs": [
    {
     "ename": "IndentationError",
     "evalue": "expected an indented block after 'if' statement on line 1 (2765464670.py, line 3)",
     "output_type": "error",
     "traceback": [
      "\u001b[1;36m  Cell \u001b[1;32mIn[2], line 3\u001b[1;36m\u001b[0m\n\u001b[1;33m    img1 = cv2.imread('img_01.jpg', cv2.IMREAD_GRAYSCALE)\u001b[0m\n\u001b[1;37m    ^\u001b[0m\n\u001b[1;31mIndentationError\u001b[0m\u001b[1;31m:\u001b[0m expected an indented block after 'if' statement on line 1\n"
     ]
    }
   ],
   "source": [
    "if __name__ == \"main\":\n",
    "\n",
    "img1 = cv2.imread('img_01.jpg', cv2.IMREAD_GRAYSCALE)\n",
    "x1 = img_to_vect(img1)\n",
    "graficar_vector(x1, img1)\n",
    "\n",
    "img2 = cv2.imread('img_02.jpg', cv2.IMREAD_GRAYSCALE)\n",
    "x2 = img_to_vect(img2)\n",
    "graficar_vector(x2, img2)"
   ]
  }
 ],
 "metadata": {
  "kernelspec": {
   "display_name": "Python 3",
   "language": "python",
   "name": "python3"
  },
  "language_info": {
   "codemirror_mode": {
    "name": "ipython",
    "version": 3
   },
   "file_extension": ".py",
   "mimetype": "text/x-python",
   "name": "python",
   "nbconvert_exporter": "python",
   "pygments_lexer": "ipython3",
   "version": "3.11.9"
  }
 },
 "nbformat": 4,
 "nbformat_minor": 5
}

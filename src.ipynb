{
 "cells": [
  {
   "cell_type": "markdown",
   "id": "a2b15de2",
   "metadata": {},
   "source": [
    "Ejercicio 1"
   ]
  },
  {
   "cell_type": "code",
   "execution_count": null,
   "id": "02dc9e3a",
   "metadata": {},
   "outputs": [],
   "source": [
    "import cv2"
   ]
  },
  {
   "cell_type": "code",
   "execution_count": null,
   "id": "68fa785d",
   "metadata": {},
   "outputs": [],
   "source": [
    "if __name__ == \"main\":\n",
    "\n",
    "img1 = cv2.imread('img_01.jpg', cv2.IMREAD_GRAYSCALE)\n",
    "x1 = img_to_vect(img1)\n",
    "show_"
   ]
  }
 ],
 "metadata": {
  "language_info": {
   "name": "python"
  }
 },
 "nbformat": 4,
 "nbformat_minor": 5
}
